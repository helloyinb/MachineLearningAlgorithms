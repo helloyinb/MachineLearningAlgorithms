{
 "cells": [
  {
   "cell_type": "markdown",
   "id": "7f3c976d-225d-4e4b-b478-d3bfcb77019d",
   "metadata": {},
   "source": [
    "### numpy practise"
   ]
  },
  {
   "cell_type": "code",
   "execution_count": 26,
   "id": "2fb8ce56-2f8b-4a61-96e9-9c5b293c0f87",
   "metadata": {},
   "outputs": [
    {
     "name": "stdout",
     "output_type": "stream",
     "text": [
      "[1 2 3 4] \n",
      "\n",
      "[[1.5 2.  3. ]\n",
      " [4.  5.  6. ]] \n",
      "\n",
      "[[1. 2. 3.]\n",
      " [4. 5. 6.]] \n",
      "\n",
      "(2, 3)\n",
      "2\n"
     ]
    },
    {
     "data": {
      "text/plain": [
       "np.float64(3.5)"
      ]
     },
     "execution_count": 26,
     "metadata": {},
     "output_type": "execute_result"
    }
   ],
   "source": [
    "import numpy as np\n",
    "arr = np.array([1,2,3,4])\n",
    "print(arr, \"\\n\")\n",
    "arr0 = np.array([[1.5, 2, 3], [4, 5, 6]])\n",
    "print(arr0, \"\\n\")\n",
    "arr1 = np.array([[1, 2, 3], [4, 5, 6]], dtype = float)\n",
    "print(arr1, \"\\n\")\n",
    "\n",
    "shape = arr1.shape\n",
    "print(shape)\n",
    "dim = arr1.ndim\n",
    "print(dim)\n",
    "\n",
    "arr1[0][0:3]\n",
    "\n",
    "arr1.mean()"
   ]
  },
  {
   "cell_type": "code",
   "execution_count": null,
   "id": "5a04470d-e4b1-40e4-92a4-1e9aa09ae312",
   "metadata": {},
   "outputs": [],
   "source": []
  }
 ],
 "metadata": {
  "kernelspec": {
   "display_name": "Python 3 (ipykernel)",
   "language": "python",
   "name": "python3"
  },
  "language_info": {
   "codemirror_mode": {
    "name": "ipython",
    "version": 3
   },
   "file_extension": ".py",
   "mimetype": "text/x-python",
   "name": "python",
   "nbconvert_exporter": "python",
   "pygments_lexer": "ipython3",
   "version": "3.13.3"
  }
 },
 "nbformat": 4,
 "nbformat_minor": 5
}
