{
 "cells": [
  {
   "cell_type": "markdown",
   "id": "cde15205-ccbe-4390-9a94-826a8f9b96ea",
   "metadata": {},
   "source": [
    "### Pandas practise"
   ]
  },
  {
   "cell_type": "code",
   "execution_count": null,
   "id": "ff2eb799-ef98-4e4b-95db-27721d3cf013",
   "metadata": {},
   "outputs": [],
   "source": [
    "import pandas as pd\n"
   ]
  }
 ],
 "metadata": {
  "kernelspec": {
   "display_name": "Python 3 (ipykernel)",
   "language": "python",
   "name": "python3"
  },
  "language_info": {
   "codemirror_mode": {
    "name": "ipython",
    "version": 3
   },
   "file_extension": ".py",
   "mimetype": "text/x-python",
   "name": "python",
   "nbconvert_exporter": "python",
   "pygments_lexer": "ipython3",
   "version": "3.13.3"
  }
 },
 "nbformat": 4,
 "nbformat_minor": 5
}
