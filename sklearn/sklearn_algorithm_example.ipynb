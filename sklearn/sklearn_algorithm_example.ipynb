{
 "cells": [
  {
   "cell_type": "markdown",
   "id": "4fc766a4-37f3-4911-899e-c9457edbd35d",
   "metadata": {},
   "source": [
    "### sklearn examples of some algorithm"
   ]
  },
  {
   "cell_type": "markdown",
   "id": "8f63a07f-df20-443d-91f9-c2519a6869f4",
   "metadata": {},
   "source": [
    "#### 数据标准化（Standardization）\n",
    "\n",
    "常用的 __数据预处理__ 方法, 它会将每个特征（每一列）的数据转换为 均值为 0、方差为 1 的分布 （也就是标准正态分布）。<br>\n",
    "这在很多机器学习算法中是很有用的预处理步骤，尤其是那些依赖于距离计算 的模型（如 __KNN、SVM、PCA、线性回归__ 等）。\n"
   ]
  },
  {
   "cell_type": "code",
   "execution_count": 16,
   "id": "56b2415e-bc61-43ae-810d-11dee2f8a937",
   "metadata": {},
   "outputs": [
    {
     "name": "stdout",
     "output_type": "stream",
     "text": [
      "[[-1.22474487 -1.22474487]\n",
      " [ 0.          0.        ]\n",
      " [ 1.22474487  1.22474487]]\n"
     ]
    }
   ],
   "source": [
    "from sklearn.preprocessing import StandardScaler\n",
    "\n",
    "X = [[0, 0], \n",
    "     [1, 1], \n",
    "     [2, 2]]\n",
    "\n",
    "scaler = StandardScaler()\n",
    "X_scaled = scaler.fit_transform(X)\n",
    "\n",
    "print(X_scaled) # 可以观察到，每一列的均值为0,方差为1"
   ]
  },
  {
   "cell_type": "markdown",
   "id": "f8d76371-dd7a-49ce-bbff-cd8d6564c4f3",
   "metadata": {},
   "source": [
    "在机器学习流程中的使用位置,通常放在训练模型之前：\n",
    "```python\n",
    "from sklearn.preprocessing import StandardScaler\n",
    "from sklearn.neighbors import KNeighborsClassifier\n",
    "from sklearn.model_selection import train_test_split\n",
    "\n",
    "# 加载数据\n",
    "X_train, X_test, y_train, y_test = train_test_split(X, y, test_size=0.2)\n",
    "\n",
    "# 创建标准化对象\n",
    "scaler = StandardScaler()\n",
    "\n",
    "# 对训练集进行拟合和变换（fit + transform）\n",
    "X_train_scaled = scaler.fit_transform(X_train)\n",
    "\n",
    "# 对测试集只进行变换（不要 fit！）\n",
    "X_test_scaled = scaler.transform(X_test)\n",
    "\n",
    "# 使用标准化后的数据训练模型\n",
    "model = KNeighborsClassifier()\n",
    "model.fit(X_train_scaled, y_train)\n",
    "```"
   ]
  },
  {
   "cell_type": "markdown",
   "id": "67daba58-094b-4c94-9c38-617a1f3de587",
   "metadata": {},
   "source": [
    "#### Iris 鸢尾花数据集机器学习练习"
   ]
  },
  {
   "cell_type": "code",
   "execution_count": 28,
   "id": "5fe234ef-c8b4-4180-8f5a-5473d648c4d9",
   "metadata": {},
   "outputs": [
    {
     "name": "stdout",
     "output_type": "stream",
     "text": [
      "datasets.iris have data size: (150, 4)\n",
      "datasets.iris have target size: (150,)\n",
      "Feature Names:\n",
      "['sepal length (cm)', 'sepal width (cm)', 'petal length (cm)', 'petal width (cm)']\n",
      "Target Names:\n",
      "['setosa' 'versicolor' 'virginica']\n",
      "Features:\n",
      " [[5.1 3.5 1.4 0.2]\n",
      " [4.9 3.  1.4 0.2]]\n",
      "Labels:\n",
      " [0 0]\n",
      "Accuracy: 0.9333333333333333\n"
     ]
    }
   ],
   "source": [
    "from sklearn import neighbors, datasets, preprocessing\n",
    "from sklearn.model_selection import train_test_split\n",
    "from sklearn.metrics import accuracy_score\n",
    "\n",
    "# 加载内置的 Iris 鸢尾花数据集\n",
    "iris = datasets.load_iris()\n",
    "print(\"datasets.iris have data size:\", iris.data.shape)\n",
    "print(\"datasets.iris have target size:\", iris.target.shape)\n",
    "\n",
    "print(\"Feature Names:\")\n",
    "print(iris.feature_names)\n",
    "print(\"Target Names:\")\n",
    "print(iris.target_names)\n",
    "print(\"Features:\\n\", iris.data[:2])     # 显示前2个样本的特征\n",
    "print(\"Labels:\\n\", iris.target[:2])     # 显示前2个样本的标签\n",
    "\n",
    "\n",
    "# X, y = iris.data[:, :2], iris.target # 选取前两个特征来训练\n",
    "X, y = iris.data[:, :], iris.target\n",
    "\n",
    "X_train, X_test, y_train, y_test = train_test_split(X, y, random_state=33, test_size=0.2, stratify=y) \n",
    "\n",
    "scaler = preprocessing.StandardScaler().fit(X_train)\n",
    "\n",
    "X_train = scaler.transform(X_train)\n",
    "X_test = scaler.transform(X_test)\n",
    "\n",
    "knn = neighbors.KNeighborsClassifier(n_neighbors=5)\n",
    "\n",
    "knn.fit(X_train, y_train)\n",
    "\n",
    "y_pred = knn.predict(X_test)\n",
    "\n",
    "accuracy_score(y_test, y_pred)\n",
    "\n",
    "print(\"Accuracy:\", accuracy_score(y_test, y_pred))"
   ]
  },
  {
   "cell_type": "code",
   "execution_count": null,
   "id": "8866c87a-1f12-4d71-9752-4c2c30f3ebdf",
   "metadata": {},
   "outputs": [],
   "source": []
  }
 ],
 "metadata": {
  "kernelspec": {
   "display_name": "Python 3 (ipykernel)",
   "language": "python",
   "name": "python3"
  },
  "language_info": {
   "codemirror_mode": {
    "name": "ipython",
    "version": 3
   },
   "file_extension": ".py",
   "mimetype": "text/x-python",
   "name": "python",
   "nbconvert_exporter": "python",
   "pygments_lexer": "ipython3",
   "version": "3.13.5"
  }
 },
 "nbformat": 4,
 "nbformat_minor": 5
}
