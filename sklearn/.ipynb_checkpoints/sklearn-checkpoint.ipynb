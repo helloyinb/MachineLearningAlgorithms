{
 "cells": [
  {
   "cell_type": "markdown",
   "id": "87cc288f-ac6c-4baf-bd34-8f7c1f16f1ef",
   "metadata": {},
   "source": [
    "### sklearn"
   ]
  },
  {
   "cell_type": "markdown",
   "id": "d2f3fdf6-fcd0-48c5-a7b7-913c8e56de60",
   "metadata": {},
   "source": [
    "scikit-learn，简称sklearn,是开源的 Python 机器学习库，它基于Numpy和Scipy，包含大量数据挖掘和分析的工具，例如数据预处理、交叉验证、算法与可视化算法等。"
   ]
  },
  {
   "cell_type": "markdown",
   "id": "24cac6f4-e2b9-458c-8683-483c11e4af70",
   "metadata": {},
   "source": [
    "Sklearn基本功能有：分类，回归，聚类，数据降维，模型选择，数据预处理。"
   ]
  },
  {
   "cell_type": "markdown",
   "id": "c395cc33-d7e0-4333-9e89-2055462d692e",
   "metadata": {},
   "source": [
    "可以独立完成机器学习的六个步骤\n",
    "- __选择数据:__ 将数据分为3组，分别是训练数据、验证数据和测试数据\n",
    "- __模拟数据:__ 使用训练数据来构建使用相关特征的模型。\n",
    "- __验证模型:__ 使用验证数据接入模型。\n",
    "- __测试模型:__ 使用测试数据检查被验证的模型的表现。\n",
    "- __使用模型:__ 使用完全训练好的模型在新数据上做预测。\n",
    "- __调优模型:__ 使用更多数据、不同的特征或调整过的参数来提升算法的性"
   ]
  },
  {
   "cell_type": "markdown",
   "id": "05326151-3a07-4f28-b5a6-c8d1a8c6ebb4",
   "metadata": {},
   "source": [
    "### 手写数字识别"
   ]
  },
  {
   "cell_type": "code",
   "execution_count": 4,
   "id": "fb140019-a45d-4868-945a-21617c9a9cf0",
   "metadata": {},
   "outputs": [
    {
     "name": "stdout",
     "output_type": "stream",
     "text": [
      "(1797, 64)\n",
      "(1797,)\n"
     ]
    }
   ],
   "source": [
    "# 导入 sklearn\n",
    "import sklearn\n",
    "\n",
    "# 加载示例数据集\n",
    "from sklearn import datasets\n",
    "digits = datasets.load_digits()\n",
    "\n",
    "# 查看数据量\n",
    "print(digits.data.shape)\n",
    "print(digits.target.shape)\n"
   ]
  },
  {
   "cell_type": "code",
   "execution_count": null,
   "id": "d5e5adc4-e8ac-4ca0-b14f-526c4cc151bc",
   "metadata": {},
   "outputs": [],
   "source": []
  }
 ],
 "metadata": {
  "kernelspec": {
   "display_name": "Python 3 (ipykernel)",
   "language": "python",
   "name": "python3"
  },
  "language_info": {
   "codemirror_mode": {
    "name": "ipython",
    "version": 3
   },
   "file_extension": ".py",
   "mimetype": "text/x-python",
   "name": "python",
   "nbconvert_exporter": "python",
   "pygments_lexer": "ipython3",
   "version": "3.13.3"
  }
 },
 "nbformat": 4,
 "nbformat_minor": 5
}
